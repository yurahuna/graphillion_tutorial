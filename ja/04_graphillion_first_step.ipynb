{
  "nbformat": 4,
  "nbformat_minor": 0,
  "metadata": {
    "kernelspec": {
      "display_name": "Python 3",
      "language": "python",
      "name": "python3"
    },
    "language_info": {
      "codemirror_mode": {
        "name": "ipython",
        "version": 3
      },
      "file_extension": ".py",
      "mimetype": "text/x-python",
      "name": "python",
      "nbconvert_exporter": "python",
      "pygments_lexer": "ipython3",
      "version": "3.7.6"
    },
    "colab": {
      "provenance": [],
      "include_colab_link": true
    }
  },
  "cells": [
    {
      "cell_type": "markdown",
      "metadata": {
        "id": "view-in-github",
        "colab_type": "text"
      },
      "source": [
        "<a href=\"https://colab.research.google.com/github/yurahuna/graphillion_tutorial/blob/master/ja/04_graphillion_first_step.ipynb\" target=\"_parent\"><img src=\"https://colab.research.google.com/assets/colab-badge.svg\" alt=\"Open In Colab\"/></a>"
      ]
    },
    {
      "cell_type": "markdown",
      "metadata": {
        "id": "XGeWbSmLScfC"
      },
      "source": [
        "# Let's touch Graphillion\n",
        "\n",
        "Let's start with an introduction to Graphillion. The details of Graphillion's functionality and how it works internally will be explained in the next chapters."
      ]
    },
    {
      "cell_type": "markdown",
      "metadata": {
        "id": "j7AUj0T8ScfE"
      },
      "source": [
        "## Counting sister problem（数え上げお姉さん問題）\n",
        "\n",
        "First, please watch the following video."
      ]
    },
    {
      "cell_type": "code",
      "metadata": {
        "id": "06pDdF0DScfF"
      },
      "source": [
        "from IPython.display import YouTubeVideo\n",
        "\n",
        "YouTubeVideo(\"Q4gTV4r0zRs\")"
      ],
      "execution_count": null,
      "outputs": []
    },
    {
      "cell_type": "markdown",
      "metadata": {
        "id": "Mi4HthNkScfJ"
      },
      "source": [
        "Let us call the problem discussed in this video **Counting Sisters Problem**. The video shows a graph shaped like a chessboard in which the total number of paths between the vertices of the corners of the graph is being counted up. The total number of such paths grows exponentially as the graph grows, so counting all the paths one by one would take an astronomical amount of time. This section describes how to solve this problem using Graphilion."
      ]
    },
    {
      "cell_type": "markdown",
      "metadata": {
        "id": "Hbte7hhZScfL"
      },
      "source": [
        "## Graphillion First Steps\n",
        "\n",
        "The publicly available Graphillion library includes a module that demonstrates how to solve the Counting Sisters problem. In this tutorial, we will use this module to solve the Counting Sisters problem.\n",
        "\n",
        "If you are using Colab, execute the following cell to download Graphillion and the tutorial module [tutorial_util.py](https://github.com/nsnmsak/graphillion_tutorial/blob/master/ en/tutorial_util.py).\n",
        "\n",
        "You will need to install graphillion in the Colab environment each time you open another notebook."
      ]
    },
    {
      "cell_type": "code",
      "metadata": {
        "id": "SEu34gkXScfM"
      },
      "source": [
        "!pip install graphillion\n",
        "!git clone https://github.com/nsnmsak/graphillion_tutorial\n",
        "!cp graphillion_tutorial/ja/tutorial_util.py ."
      ],
      "execution_count": null,
      "outputs": []
    },
    {
      "cell_type": "markdown",
      "metadata": {
        "id": "iElGvVxBScfP"
      },
      "source": [
        "Next, import the `GraphSet` and `tutorial` from the graphillion module."
      ]
    },
    {
      "cell_type": "code",
      "metadata": {
        "id": "K74JE5TYScfQ"
      },
      "source": [
        "from graphillion import GraphSet, tutorial\n",
        "from tutorial_util import draw_subgraph, draw_universe"
      ],
      "execution_count": null,
      "outputs": []
    },
    {
      "cell_type": "markdown",
      "metadata": {
        "id": "jJRDRXpPScfT"
      },
      "source": [
        "`GraphSet` is a class that plays a central role in Graphillion and implements various methods for handling a set of graphs. The `tutorial` module contains [tutorial](https://github.com/takemaru/graphillion/wiki#%E3%83%81%E3%83%A5%E3%83%BC%E3%83%88%E3%83%AA%E3%82%A2%E3%83%AB). `draw_subgraph` is an auxiliary function for drawing graphs that has been prepared for this tutorial.\n",
        "\n",
        "Now, let's solve the Counting Sisters problem in Graphillion. First, prepare the graph of the problem."
      ]
    },
    {
      "cell_type": "code",
      "metadata": {
        "id": "hdP1RbcIScfU"
      },
      "source": [
        "grid = tutorial.grid(7, 7)\n",
        "grid"
      ],
      "execution_count": null,
      "outputs": []
    },
    {
      "cell_type": "markdown",
      "metadata": {
        "id": "8t_JwTTBScfX"
      },
      "source": [
        "`tutorial.grid(n, m)` is a method to generate a grid graph, which is used in the the problem. In the following, this graph is referred to as a grid graph. The generated grid graph is represented as a list of pairs of integers. Each integer represents a vertex number, and each pair represents an edge between vertices."
      ]
    },
    {
      "cell_type": "markdown",
      "metadata": {
        "id": "O8T06LmUScfb"
      },
      "source": [
        "Next, we will create a GraphSet that represents a set of routes on this grid graph. First, register a grid graph `grid` in the `GraphSet` class."
      ]
    },
    {
      "cell_type": "code",
      "metadata": {
        "id": "nHqp0MVMScfb"
      },
      "source": [
        "GraphSet.set_universe(grid)"
      ],
      "execution_count": null,
      "outputs": []
    },
    {
      "cell_type": "markdown",
      "metadata": {
        "id": "qRf5DcJeScfe"
      },
      "source": [
        "The set of graphs handled by Graphillion is defined as the set of subgraphs of a graph (hereafter called *universe*). GraphSet.set_universe()` sets the universe.\n",
        "\n",
        "The `draw_universe()` method can be used to draw a universe."
      ]
    },
    {
      "cell_type": "code",
      "metadata": {
        "id": "xKvDzFGDScfY"
      },
      "source": [
        "draw_universe()"
      ],
      "execution_count": null,
      "outputs": []
    },
    {
      "cell_type": "markdown",
      "metadata": {
        "id": "5A_tHJgQeCMv"
      },
      "source": [
        "Now it's time to solve the counting sister problem, which can be solved in Graphillion using the following method."
      ]
    },
    {
      "cell_type": "code",
      "metadata": {
        "id": "QeZvQVuVScff"
      },
      "source": [
        "paths = GraphSet.paths(1, 64)"
      ],
      "execution_count": null,
      "outputs": []
    },
    {
      "cell_type": "markdown",
      "metadata": {
        "id": "wJReTEHCScfi"
      },
      "source": [
        "`GraphSet.paths(s, t)` finds a GraphSet object that represents the set of all paths from vertex `s` to `t`, not including loops. It may take some time to run for large graphs, but for a graph of the size of this tutorial, the result should be obtained in a fraction of a second. `paths` is a GraphSet object that represents a set of all paths.\n",
        "\n",
        "Next, let's find the number of paths in `paths`."
      ]
    },
    {
      "cell_type": "code",
      "metadata": {
        "id": "L6AMdXfWScfj"
      },
      "source": [
        "len(paths)"
      ],
      "execution_count": null,
      "outputs": []
    },
    {
      "cell_type": "markdown",
      "metadata": {
        "id": "WiYE71ACScfl"
      },
      "source": [
        "Using Graphillion, we were able to solve the problem in a fraction of the time it took to solve the Counting Sisters movie on a supercomputer.\n",
        "\n",
        "Graphillion has many more features than just solving the counting sister problem. In the following, the paths included in `paths` are selected from the ones with the smallest number of edges, the ones with the largest number of edges, and the ones with the longest length (number of edges) of the paths.\n",
        "the shortest length (number of edges), and the longest length (number of edges), respectively, from the paths in `paths`."
      ]
    },
    {
      "cell_type": "code",
      "metadata": {
        "id": "Y9alIv_KScfm"
      },
      "source": [
        "shortest_path = next(paths.min_iter())\n",
        "longest_path = next(paths.max_iter())\n",
        "\n",
        "draw_subgraph(shortest_path)\n",
        "draw_subgraph(longest_path)"
      ],
      "execution_count": null,
      "outputs": []
    },
    {
      "cell_type": "markdown",
      "metadata": {
        "id": "xOlD7WoHScfp"
      },
      "source": [
        "The `draw_subgraph(subgraph)` method can be used to draw a `universe` and a `subgraph` on top of each other.\n",
        "\n",
        "## Summary of this chapter\n",
        "\n",
        "In this chapter, we introduced the counting-up-sister problem and how to solve it using Graphillion.\n",
        "Graphillion allows you to count a huge number of paths in a fraction of the time.\n",
        "We will explain in [next chapter](05_graphillion_and_zdd.ipynb) why Graphillion was able to solve the problem so quickly."
      ]
    }
  ]
}