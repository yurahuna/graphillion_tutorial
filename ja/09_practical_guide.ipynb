{
  "nbformat": 4,
  "nbformat_minor": 0,
  "metadata": {
    "kernelspec": {
      "name": "python3",
      "display_name": "Python 3"
    },
    "colab": {
      "provenance": [],
      "include_colab_link": true
    }
  },
  "cells": [
    {
      "cell_type": "markdown",
      "metadata": {
        "id": "view-in-github",
        "colab_type": "text"
      },
      "source": [
        "<a href=\"https://colab.research.google.com/github/yurahuna/graphillion_tutorial/blob/master/ja/09_practical_guide.ipynb\" target=\"_parent\"><img src=\"https://colab.research.google.com/assets/colab-badge.svg\" alt=\"Open In Colab\"/></a>"
      ]
    },
    {
      "cell_type": "markdown",
      "metadata": {
        "id": "Tfq-He6L6Jtz"
      },
      "source": [
        "# Practical Guide for Graphillion\n",
        "\n",
        "This chapter introduces practical know-how for efficiently solving graph-related problems using Graphillion.\n",
        "\n",
        "The efficiency of a computation using Graphillion depends on the size of the ZDD representing the graph set. If a large ZDD is created in the process of manipulating a `GraphSet` object, it may become a bottleneck in the process.\n",
        "\n",
        "\n",
        "Unfortunately, it is notoriously difficult to predict in advance how large a ZDD representing a given graph set will be. On the other hand, there are some rules of thumb for when ZDDs become large.\n",
        "\n",
        "In this section, we explain the empirical rules for the size of ZDDs and the countermeasures that can be taken when ZDDs become large.\n",
        "\n",
        "\n",
        "## Properties of ZDDs\n",
        "\n",
        "### The number of elements in a graph set is not proportional to the size of the ZDD.\n",
        "\n",
        "The size of a graph set is not necessarily proportional to the size of the ZDD."
      ]
    },
    {
      "cell_type": "code",
      "source": [
        "!pip install graphillion\n",
        "!git clone https://github.com/nsnmsak/graphillion_tutorial\n",
        "!cp graphillion_tutorial/ja/tutorial_util.py ."
      ],
      "metadata": {
        "colab": {
          "base_uri": "https://localhost:8080/"
        },
        "id": "riT5DC8SMpbj",
        "outputId": "a05ad824-eeb1-4e83-e23b-6874d6d246c4"
      },
      "execution_count": 3,
      "outputs": [
        {
          "output_type": "stream",
          "name": "stdout",
          "text": [
            "Requirement already satisfied: graphillion in /usr/local/lib/python3.10/dist-packages (1.5)\n",
            "Requirement already satisfied: future in /usr/local/lib/python3.10/dist-packages (from graphillion) (0.18.3)\n",
            "fatal: destination path 'graphillion_tutorial' already exists and is not an empty directory.\n"
          ]
        }
      ]
    },
    {
      "cell_type": "code",
      "metadata": {
        "id": "7iVrWF3a6Jt4"
      },
      "source": [
        "from graphillion import GraphSet, tutorial\n",
        "from tutorial_util import zdd_size, draw_zdd\n",
        "import networkx as nx"
      ],
      "execution_count": 4,
      "outputs": []
    },
    {
      "cell_type": "code",
      "metadata": {
        "id": "qvozC69a6Jt5",
        "outputId": "5d67c797-9375-428e-925c-222434e073fe",
        "colab": {
          "base_uri": "https://localhost:8080/"
        }
      },
      "source": [
        "GraphSet.set_universe(tutorial.grid(4, 4))\n",
        "paths = GraphSet.paths(1, 25)\n",
        "all_graphs = GraphSet({})\n",
        "\n",
        "len(paths), zdd_size(paths), len(all_graphs), zdd_size(all_graphs)"
      ],
      "execution_count": 5,
      "outputs": [
        {
          "output_type": "execute_result",
          "data": {
            "text/plain": [
              "(8512, 605, 1099511627776, 40)"
            ]
          },
          "metadata": {},
          "execution_count": 5
        }
      ]
    },
    {
      "cell_type": "markdown",
      "metadata": {
        "id": "Qz2AtaSo6Jt6"
      },
      "source": [
        "The above code creates `all_graphs`, the set of all subgraphs, and `paths`, the set of paths between diagonal vertices of a grid graph, and compares the corresponding ZDD sizes. Although `all_graphs` has by far the largest number of elements in the graph set, a comparison of ZDD sizes shows that the ZDD corresponding to `all_graphs` is smaller."
      ]
    },
    {
      "cell_type": "markdown",
      "metadata": {
        "id": "ni41r1Te6Jt6"
      },
      "source": [
        "### As the `universe` grows, the ZDD grows exponentially.\n",
        "\n",
        "ZDDs can be used to compress and reduce the size of graph sets that cause combinatorial explosion. However, even after compression, the ZDD size tends to increase exponentially as the `universe` grows."
      ]
    },
    {
      "cell_type": "code",
      "metadata": {
        "id": "AzWn3fx46Jt6",
        "colab": {
          "base_uri": "https://localhost:8080/"
        },
        "outputId": "4a3375b9-fb64-43a8-d5c4-6eee41f4cfb0"
      },
      "source": [
        "zdd_sizes = []\n",
        "num_paths = []\n",
        "for i in range(2, 8):\n",
        "    GraphSet.set_universe(tutorial.grid(i, i))\n",
        "    paths = GraphSet.paths(1, (i+1)**2)\n",
        "    num_paths.append(len(paths))\n",
        "    zdd_sizes.append(zdd_size(paths))\n",
        "\n",
        "zdd_sizes, num_paths"
      ],
      "execution_count": 6,
      "outputs": [
        {
          "output_type": "execute_result",
          "data": {
            "text/plain": [
              "([27, 131, 605, 5635, 11429, 545208],\n",
              " [12, 184, 8512, 1262816, 575780564, 789360053252])"
            ]
          },
          "metadata": {},
          "execution_count": 6
        }
      ]
    },
    {
      "cell_type": "markdown",
      "metadata": {
        "id": "zuIHvoss6Jt7"
      },
      "source": [
        "Experience shows that when the number of vertices in a graph specified in `universe` exceeds several hundred, Graphillion will not be able to complete its processing in a realistic amount of time."
      ]
    },
    {
      "cell_type": "markdown",
      "metadata": {
        "id": "VF8J9KSX6Jt7"
      },
      "source": [
        "### Dense graphs tend to increase ZDD size.\n",
        "\n",
        "If the graph set in `universe` is dense, that is, if it has a large number of edges relative to the number of vertices, the ZDD size tends to increase."
      ]
    },
    {
      "cell_type": "code",
      "metadata": {
        "id": "1PHEROGi6Jt7",
        "outputId": "0635b3f3-fef9-40ce-b7fb-5af0ad83685f",
        "colab": {
          "base_uri": "https://localhost:8080/"
        }
      },
      "source": [
        "grid = tutorial.grid(3, 3)\n",
        "complete = nx.complete_graph(7)\n",
        "\n",
        "complete = [(i+1, j+1) for (i, j) in complete.edges()]\n",
        "len(grid), len(complete) # the numbers of edges in graphs"
      ],
      "execution_count": 7,
      "outputs": [
        {
          "output_type": "execute_result",
          "data": {
            "text/plain": [
              "(24, 21)"
            ]
          },
          "metadata": {},
          "execution_count": 7
        }
      ]
    },
    {
      "cell_type": "markdown",
      "metadata": {
        "id": "mNy5snh_6Jt7"
      },
      "source": [
        "Let's see how the size of ZDD changes between a grid graph and a complete graph with the same number of edges.\n",
        "\n",
        "First, here is an example of a grid graph."
      ]
    },
    {
      "cell_type": "code",
      "metadata": {
        "id": "KuRRdSMs6Jt8",
        "outputId": "9aebd2ee-cf6a-4bc6-f08b-6d9657dd9658",
        "colab": {
          "base_uri": "https://localhost:8080/"
        }
      },
      "source": [
        "grid_zdd_sizes = {}\n",
        "\n",
        "GraphSet.set_universe(grid)\n",
        "\n",
        "grid_zdd_sizes['cycle'] = zdd_size(GraphSet.cycles())\n",
        "grid_zdd_sizes['tree'] = zdd_size(GraphSet.trees(1, is_spanning=True ))\n",
        "grid_zdd_sizes"
      ],
      "execution_count": 8,
      "outputs": [
        {
          "output_type": "execute_result",
          "data": {
            "text/plain": [
              "{'cycle': 109, 'tree': 189}"
            ]
          },
          "metadata": {},
          "execution_count": 8
        }
      ]
    },
    {
      "cell_type": "markdown",
      "metadata": {
        "id": "Ob8z7-st6Jt8"
      },
      "source": [
        "Next is an example of a complete graph."
      ]
    },
    {
      "cell_type": "code",
      "metadata": {
        "id": "p_fSagEk6Jt8",
        "outputId": "2f1138ca-6cf8-4bcd-e3e5-ec9f2ff9cc3a",
        "colab": {
          "base_uri": "https://localhost:8080/"
        }
      },
      "source": [
        "grid_zdd_sizes = {}\n",
        "\n",
        "GraphSet.set_universe(complete)\n",
        "\n",
        "grid_zdd_sizes['cycle'] = zdd_size(GraphSet.cycles())\n",
        "grid_zdd_sizes['tree'] = zdd_size(GraphSet.trees(1, is_spanning=True ))\n",
        "grid_zdd_sizes"
      ],
      "execution_count": 9,
      "outputs": [
        {
          "output_type": "execute_result",
          "data": {
            "text/plain": [
              "{'cycle': 479, 'tree': 1087}"
            ]
          },
          "metadata": {},
          "execution_count": 9
        }
      ]
    },
    {
      "cell_type": "markdown",
      "metadata": {
        "id": "YGRe0FvK6Jt8"
      },
      "source": [
        "We observed that ZDD is larger when dealing with complete graphs, which are dense graphs."
      ]
    },
    {
      "cell_type": "markdown",
      "metadata": {
        "id": "VyMRFU9W6Jt9"
      },
      "source": [
        "### Avoid Random Graph Sets\n",
        "\n",
        "Compression by ZDDs works well when the subgraphs in the graph set have some regularity. On the other hand, if the subgraphs are randomly selected, it tends to create huge ZDDs."
      ]
    },
    {
      "cell_type": "code",
      "metadata": {
        "id": "3IxCWbtA6Jt9",
        "outputId": "cd7f0a5c-a668-46fa-f670-e0b84cbc9c8b",
        "colab": {
          "base_uri": "https://localhost:8080/"
        }
      },
      "source": [
        "GraphSet.set_universe(tutorial.grid(5, 5))\n",
        "\n",
        "all_graphs = GraphSet({})\n",
        "\n",
        "random_graphs = GraphSet([]) # initialize random_graphs as an empty graph set\n",
        "\n",
        "for i, g in enumerate(all_graphs.rand_iter()):\n",
        "    if i == 1000:\n",
        "        break\n",
        "    random_graphs = random_graphs.union(GraphSet([g])) # add a subgraph randomly\n",
        "zdd_size(random_graphs)"
      ],
      "execution_count": 10,
      "outputs": [
        {
          "output_type": "execute_result",
          "data": {
            "text/plain": [
              "21128"
            ]
          },
          "metadata": {},
          "execution_count": 10
        }
      ]
    },
    {
      "cell_type": "markdown",
      "metadata": {
        "id": "FKAOI08y6Jt9"
      },
      "source": [
        "In the example above, `random_graphs` is created by randomly selecting 1000 subgraphs from `all_graphs`, which represents the set of all subgraphs. ZDDs are not compressed well, since it takes more than 20,000 vertices to represent a set of `random_graphs`, a set of 1000 subgraphs."
      ]
    },
    {
      "cell_type": "markdown",
      "metadata": {
        "id": "gTyGYJCH6Jt9"
      },
      "source": [
        "## Avoid increasing the size of ZDDs\n",
        "\n",
        "When a large ZDD is built, it can take a long time to compute or consume all of your computer's memory. Here are some measures that can be taken to avoid such a situation."
      ]
    },
    {
      "cell_type": "markdown",
      "metadata": {
        "id": "obEJNvrm6Jt9"
      },
      "source": [
        "### Use a computer with plenty of memory\n",
        "\n",
        "Memory is often a bottleneck in the use of Graphillion. Depending on the size of the ZDD to be constructed, Graphillion can easily consume several GB of memory. If you are considering processing large graphs, we recommend that you use a computer with plenty of memory.\n",
        "\n",
        "If possible, a computer with 10 GB or more of memory will expand your capabilities."
      ]
    },
    {
      "cell_type": "markdown",
      "metadata": {
        "id": "3dWnPq_v6Jt-"
      },
      "source": [
        "### Devising the order of operations\n",
        "\n",
        "Graphillion constructs a desired `GraphSet` by compositing and filtering multiple `GraphSet` objects. If a large ZDD is constructed in the process, it becomes a bottleneck and reduces the efficiency of the computation. This bottleneck may be avoided by rearranging the order of operations.\n",
        "\n",
        "Suppose we want to find a path connecting the diagonal vertices of a grid graph with fewer than 12 edges.\n",
        "\n",
        "Let us see how the size of the ZDDs constructed along the way changes when we construct a `GraphSet` by first finding a set of paths and then adding the restriction on the number of edges."
      ]
    },
    {
      "cell_type": "code",
      "metadata": {
        "id": "Xp9v7XUQ6Jt-",
        "outputId": "7be3e976-5194-412a-fde1-6c09009d98bf",
        "colab": {
          "base_uri": "https://localhost:8080/"
        }
      },
      "source": [
        "GraphSet.set_universe(tutorial.grid(5, 5))\n",
        "\n",
        "zdd_sizes = []\n",
        "gs = GraphSet.paths(1, 36)\n",
        "zdd_sizes.append(zdd_size(gs))\n",
        "\n",
        "gs = gs.smaller(12)\n",
        "zdd_sizes.append(zdd_size(gs))\n",
        "\n",
        "zdd_sizes"
      ],
      "execution_count": 11,
      "outputs": [
        {
          "output_type": "execute_result",
          "data": {
            "text/plain": [
              "[5635, 106]"
            ]
          },
          "metadata": {},
          "execution_count": 11
        }
      ]
    },
    {
      "cell_type": "markdown",
      "metadata": {
        "id": "lyaOj-6v6Jt-"
      },
      "source": [
        "次に，まず辺の数が12未満である`GraphSet`を構築して，そこから対角頂点間の経路となっているものを取りだす方法で`GraphSet`オブジェクトを作ってみましょう．"
      ]
    },
    {
      "cell_type": "code",
      "metadata": {
        "id": "ZFd6f3Dd6Jt-",
        "outputId": "b276e2ce-aa47-4eb9-eb77-5f62e87accb9",
        "colab": {
          "base_uri": "https://localhost:8080/"
        }
      },
      "source": [
        "zdd_sizes = []\n",
        "gs = GraphSet({}) # make a graph set containing all subgraphs\n",
        "zdd_sizes.append(zdd_size(gs))\n",
        "\n",
        "gs = gs.smaller(12) # make a graph set containing subgraphs with less than 12 edges\n",
        "zdd_sizes.append(zdd_size(gs))\n",
        "\n",
        "gs = gs.paths(1, 36)\n",
        "zdd_sizes.append(zdd_size(gs))\n",
        "\n",
        "zdd_sizes"
      ],
      "execution_count": 12,
      "outputs": [
        {
          "output_type": "execute_result",
          "data": {
            "text/plain": [
              "[60, 550, 106]"
            ]
          },
          "metadata": {},
          "execution_count": 12
        }
      ]
    },
    {
      "cell_type": "markdown",
      "metadata": {
        "id": "fE4gw1v56Jt-"
      },
      "source": [
        "Here, `gs.paths(1, 36)` is a method to create a `GraphSet` object that is a path between vertices 1 and 36 from the graph set `gs`. Other methods such as `gs.cycles`, `gs.trees`, etc. can be used as methods of `gs` to construct a graph set specific to a particular graph set.\n",
        "\n",
        "By changing the construction order, the size of ZDDs created along the way could be reduced."
      ]
    },
    {
      "cell_type": "markdown",
      "metadata": {
        "id": "gXvNT0s-6Jt_"
      },
      "source": [
        "### Adjusting Variable Ordering\n",
        "\n",
        "The labels of the vertices in a ZDD are ordered. In the following ZDD, the labels of the vertices appear in the order 1, 2, 3 no matter how the branches are traced from the root. The order in which the labels appear is called the **variable order**.\n",
        "\n",
        "<img src=\"https://github.com/nsnmsak/graphillion_tutorial/blob/master/ja/img/09/sample_zdd.png?raw=1\" alt=\"ZDD example\" style=\"height: 300px ;\"/>\n",
        "\n",
        "The size of the ZDD changes (sometimes exponentially) as the variable order changes, and Graphillion can also achieve efficient processing by properly setting the variable order of the ZDD.\n",
        "\n",
        "In Graphillion, the parameter of variable order can be specified at the time of initialization with `GraphSet.set_universe()`. Let's take a look at what happens when the variable order is changed."
      ]
    },
    {
      "cell_type": "code",
      "metadata": {
        "id": "CDMysq_J6Jt_",
        "outputId": "d657ed94-1ac9-4ac9-e216-cc05564ca7cc",
        "colab": {
          "base_uri": "https://localhost:8080/"
        }
      },
      "source": [
        "grid = tutorial.grid(4,4)\n",
        "GraphSet.set_universe(grid, traversal='as-is')\n",
        "paths = GraphSet.paths(1, 25)\n",
        "zdd_size(paths)"
      ],
      "execution_count": 13,
      "outputs": [
        {
          "output_type": "execute_result",
          "data": {
            "text/plain": [
              "577"
            ]
          },
          "metadata": {},
          "execution_count": 13
        }
      ]
    },
    {
      "cell_type": "markdown",
      "metadata": {
        "id": "yfmQVG8p6Jt_"
      },
      "source": [
        "The argument `traversal` of `GraphSet.set_universe` specifies how to order the variables. If the argument is omitted, Graphillion sets the appropriate variable order by traversing the `universe` graph. If `traversal='as-is'`, the order of the edges of the given graph is used. In the example above, the order of the edges of `grid` is used.\n",
        "\n",
        "Next, let's see what happens when we change the order of the edges of `grid`."
      ]
    },
    {
      "cell_type": "code",
      "metadata": {
        "id": "RDuFo1ah6Jt_",
        "outputId": "b86c3376-00f1-4898-fbe8-3bf25d0258b7",
        "colab": {
          "base_uri": "https://localhost:8080/"
        }
      },
      "source": [
        "from random import sample\n",
        "\n",
        "grid_shuffled = sample(list(grid), len(grid))\n",
        "print(grid_shuffled)\n",
        "GraphSet.set_universe(grid_shuffled, traversal='as-is')\n",
        "paths = GraphSet.paths(1, 25)\n",
        "zdd_size(paths)"
      ],
      "execution_count": 14,
      "outputs": [
        {
          "output_type": "stream",
          "name": "stdout",
          "text": [
            "[(7, 8), (21, 22), (6, 7), (9, 14), (3, 8), (18, 19), (16, 21), (17, 22), (14, 15), (14, 19), (3, 4), (2, 7), (9, 10), (1, 2), (8, 9), (8, 13), (11, 16), (15, 20), (5, 10), (24, 25), (20, 25), (11, 12), (19, 20), (4, 5), (13, 14), (16, 17), (12, 17), (23, 24), (12, 13), (19, 24), (17, 18), (10, 15), (7, 12), (6, 11), (18, 23), (22, 23), (1, 6), (4, 9), (2, 3), (13, 18)]\n"
          ]
        },
        {
          "output_type": "execute_result",
          "data": {
            "text/plain": [
              "33464"
            ]
          },
          "metadata": {},
          "execution_count": 14
        }
      ]
    },
    {
      "cell_type": "markdown",
      "metadata": {
        "id": "OZbsqol86Jt_"
      },
      "source": [
        "`sample` is a method for randomly sorting a list. It can be seen that random ordering of variables in the `grid` results in a rapid increase in the size of the ZDD.\n",
        "\n",
        "It is possible to reduce the ZDD size by giving the `universe` a good order of the variables according to the set graph. However, it is known that the problem of finding a variable order that reduces the ZDD is also **NP-hard**, so a good variable order cannot always be found.\n",
        "\n",
        "There are several known methods to find a good variable order, but here we introduce a method to adjust the parameters of the variable order search. By changing the vertices set to the `source` argument of this method, different variable orderings can be obtained."
      ]
    },
    {
      "cell_type": "code",
      "metadata": {
        "id": "WPBDiT2F6JuA",
        "outputId": "16eac3b5-5042-4879-f7fe-3e2ad749d7da",
        "colab": {
          "base_uri": "https://localhost:8080/"
        }
      },
      "source": [
        "grid = tutorial.grid(4, 6)\n",
        "\n",
        "zdd_sizes = []\n",
        "for i in range(5):\n",
        "    GraphSet.set_universe(grid, source=(5 * i + 1))\n",
        "    paths = GraphSet.paths(1, 35)\n",
        "    zdd_sizes.append(zdd_size(paths))\n",
        "zdd_sizes"
      ],
      "execution_count": 15,
      "outputs": [
        {
          "output_type": "execute_result",
          "data": {
            "text/plain": [
              "[6215, 4408, 6703, 4709, 6861]"
            ]
          },
          "metadata": {},
          "execution_count": 15
        }
      ]
    },
    {
      "cell_type": "markdown",
      "metadata": {
        "id": "eMVdElF86JuA"
      },
      "source": [
        "The `source` argument specifies at which vertex to start the variable order search. It can be seen that changing the value of the `source` vertex changes the size of the ZDD."
      ]
    },
    {
      "cell_type": "markdown",
      "metadata": {
        "id": "X9PQwkx56JuA"
      },
      "source": [
        "## Summary of this chapter\n",
        "\n",
        "This chapter introduced the ZDD behavior that you need to know in order to process efficiently with Graphillion."
      ]
    }
  ]
}