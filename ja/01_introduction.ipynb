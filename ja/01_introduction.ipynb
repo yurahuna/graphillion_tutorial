{
  "nbformat": 4,
  "nbformat_minor": 0,
  "metadata": {
    "colab": {
      "provenance": [],
      "authorship_tag": "ABX9TyN2Z++QOWMfOZAOmfhdJFCu",
      "include_colab_link": true
    },
    "kernelspec": {
      "name": "python3",
      "display_name": "Python 3"
    },
    "language_info": {
      "name": "python"
    }
  },
  "cells": [
    {
      "cell_type": "markdown",
      "metadata": {
        "id": "view-in-github",
        "colab_type": "text"
      },
      "source": [
        "<a href=\"https://colab.research.google.com/github/yurahuna/graphillion_tutorial/blob/master/ja/01_introduction.ipynb\" target=\"_parent\"><img src=\"https://colab.research.google.com/assets/colab-badge.svg\" alt=\"Open In Colab\"/></a>"
      ]
    },
    {
      "cell_type": "markdown",
      "source": [
        "# Introduction\n",
        "\n",
        "([Japanese version](https://github.com/nsnmsak/graphillion_tutorial) is available.)\n",
        "\n",
        "This tutorial introduces [Graphillion](https://github.com/takemaru/graphillion), a Python library for fast execution of various computations on a **set of graphs**. Graphillion allows you to easily perform the following computations on a graph in a few lines of code.\n",
        "\n",
        "- Find the number of paths connecting two vertices in a graph that pass through a particular vertex.\n",
        "- Find the longest path with the longest sum of edge weights among the paths traversing all vertices.\n",
        "- Compute the probability that the communication network will operate without failure.\n",
        "\n",
        "All of these calculations are known to be **NP-hard**, a class of computationally difficult problems, and the computation time required to solve an NP-hard problem increases exponentially with the problem size. Graphillion provides the ability to solve these difficult problems in realistic time.\n",
        "\n",
        "Graphillion uses a data structure called a **zero-supress binary decision diagram (ZDD)** and state-of-the-art algorithmic techniques based on ZDDs. This tutorial also briefly describes how ZDDs are handled in Graphillion. Graphillion completely hides the existence of ZDDs, allowing users to work intuitively with a set of graphs without any knowledge of ZDDs.\n",
        "\n",
        "\n",
        "## What you will learn in this tutorial\n",
        "\n",
        "The goal of this tutorial is to provide you with the following.\n",
        "\n",
        "- Basic usage of Graphillion.\n",
        "- Use cases where Graphillion is particularly effective.\n",
        "- How Grapillion works. In particular, the role of ZDDs.\n",
        "\n",
        "## Positioning of Graphillion\n",
        "\n",
        "There are many libraries for working with graphs. For example, [NetworkX](https://networkx.github.io/) is a typical Python library that handles graphs and has rich functionality for executing and visualizing various algorithms on graphs.\n",
        "\n",
        "Graphillion is a library that specializes in processing sets of graphs and does not have the variety of features that NetworkX has. On the other hand, Graphillion has many features for graph set processing that are not available in other software. The following tutorials will show what can be achieved by handling graph sets.\n",
        "\n",
        "Graphillion can also be used in conjunction with NetworkX. For example, Graphillion can be used in conjunction with NetworkX by passing its execution results to NetworkX.\n",
        "\n",
        "## Using Google Colaboratory\n",
        "All programs used in this tutorial can be run on [Google Colaboratory](https://colab.research.google.com/notebooks/intro.ipynb) (Colab). By using Colab, you can try out the functionality of Graphillion without having to prepare a Python runtime environment.\n",
        "\n",
        "A Google account is required to use Colab, which works with most major browsers. It has been tested to work perfectly with the latest versions of Chrome, Firefox, and Safari.\n",
        "\n",
        "\n",
        "## Outlines\n",
        "1. introduction\n",
        "\n",
        "2. [Introduction to Graph Theory](02_graph_theory.ipynb): This section explains the basics of graph theory necessary to understand this tutorial. A brief explanation of what graphs are and why graph theory is useful. Those who are already familiar with graph theory may skip this section.\n",
        "\n",
        "3. [Graphs and combinatorial explosion](03_graph_and_combinatorial_explosion.ipynb): When solving graph problems, one often has to deal with subgraphs that exist exponentially. This chapter describes such combinatorial explosions.\n",
        "\n",
        "4. [Let's touch Graphillion](04_graphillion_first_step.ipynb): This is the time to explain Graphillion. We will introduce an example of graph set processing using Graphillion based on the famous \"Counting Sisters Problem\".\n",
        "\n",
        "5. [Inside Graphillion](05_graphillion_and_zdd.ipynb): Graphillion uses a data structure called ZDD. Although Graphillion can be used without being aware of ZDDs, understanding ZDDs is essential for understanding Graphillion's behavior. This chapter describes the role of ZDDs in Graphillion.\n",
        "\n",
        "6. [GraphSet](06_graph_set.ipynb): Graphillion allows users to create an object called a GraphSet that represents a set of graphs and performs various operations. This chapter introduces typical operations on GraphSets. 7.\n",
        "\n",
        "7. [Optimization with Graphillion](07_answering_path_query.ipynb): Graphillion can be used to solve optimization problems related to graphs. This chapter describes how to solve optimization problems using Graphillion and the types of optimization problems in which Graphillion excels. 8.\n",
        "\n",
        "8. [Calculating Network Reliability](08_network_reliability.ipynb): By utilizing Graphillion's functionality, you can examine the network's resilience to failures.\n",
        "\n",
        "9. [Graphillion Practical Guide](09_practical_guide.ipynb): Some guidelines for solving problems efficiently with Graphillion."
      ],
      "metadata": {
        "id": "Tqw1x1_UYeR6"
      }
    },
    {
      "cell_type": "code",
      "source": [],
      "metadata": {
        "id": "uDAOwJeMcubM"
      },
      "execution_count": null,
      "outputs": []
    }
  ]
}