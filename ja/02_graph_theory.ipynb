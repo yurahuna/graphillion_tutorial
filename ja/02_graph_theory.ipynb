{
  "nbformat": 4,
  "nbformat_minor": 0,
  "metadata": {
    "colab": {
      "provenance": [],
      "authorship_tag": "ABX9TyN6tjbkOkF/POQB6l3zgkmD",
      "include_colab_link": true
    },
    "kernelspec": {
      "name": "python3",
      "display_name": "Python 3"
    },
    "language_info": {
      "name": "python"
    }
  },
  "cells": [
    {
      "cell_type": "markdown",
      "metadata": {
        "id": "view-in-github",
        "colab_type": "text"
      },
      "source": [
        "<a href=\"https://colab.research.google.com/github/yurahuna/graphillion_tutorial/blob/master/ja/02_graph_theory.ipynb\" target=\"_parent\"><img src=\"https://colab.research.google.com/assets/colab-badge.svg\" alt=\"Open In Colab\"/></a>"
      ]
    },
    {
      "cell_type": "markdown",
      "source": [
        "# Graph Theory\n",
        "\n",
        "This chapter explains the basics of graph theory. If you are familiar with graph theory, please go to [next chapter](03_graph_and_combinatorial_explosion.ipynb).\n",
        "\n",
        "\n",
        "## What is a graph?\n",
        "\n",
        "**A graph** is a structure consisting of a set of **vertices** and a set of **edges** connecting two vertices. The following figure shows an example of a graph with six vertices. A numbered circle is a vertex and a line connecting two vertices is an edge.\n",
        "\n",
        "\n",
        "<img src=\"img/02/example.png\" alt=\"Graph example\" style=\"height: 150px;\"/>\n",
        "\n",
        "Graphs can be used to show the relationship between various objects.\n",
        "For example, a railroad map is represented as a graph with stations as vertices and edges connecting vertices corresponding to adjacent stations. Hyperlinks to web pages on the World Wide Web can also be represented as a graph with web pages as vertices and links as edges. The following items can also be represented as graphs.\n",
        "\n",
        "- Social networks\n",
        "- Information and communication networks\n",
        "- Molecular structures\n",
        "\n",
        "A graph with oriented edges is called a **directed graph** and a graph with non-oriented edges is called an **undirected graph**. A hyperlink on a web page can be represented as a directed graph because the relationship between the linking page and the linked page is asymmetric. On the other hand, a route map is best represented as an undirected graph.\n",
        "This tutorial deals with undirected graphs.\n",
        "\n",
        "A graph with numerical values on each edge is called a **weighted graph**. Here is an example of a weighted graph.\n",
        "<img src=\"img/02/weighted_graph_example.png\" alt=\"Weighted graph example\" style=\"height: 150px;\"/>\n",
        "\n",
        "\n",
        "\n",
        "## Subgraphs\n",
        "A graph is called a **subgraph** if it is constructed by selecting some edges and vertices from the graph. A subgraph constructed by selecting some edges and vertices that are endpoints of the edges is called an **edge-induced subgraph**. The figure below shows an example of a subgraph. The subgraph is represented by red edges and vertices. The left-hand side is an edge-induced subgraph, while the right-hand side is not.\n",
        "\n",
        "<img src=\"img/02/induced_subgraph.png\" alt=\"Example of a subgraph\" style=\"height: 120px;\"/>\n",
        "\n",
        "Hereafter in this tutorial, when we refer to a subgraph, we mean an induced subgraph obtained by selecting an edge.\n",
        "\n",
        "A subgraph has several characteristics. A subgraph is called a **path** if every edge in the subgraph can be traversed once in sequence from one vertex to another. A path is assumed to contain no two identical vertices.\n",
        "\n",
        "A path from one vertex to the same vertex is called a **cycle**. Two vertices in a subgraph are said to be **connected** if there exists a path connecting them. A subgraph is called a **tree** if every pair of vertices in the subgraph is connected and does not contain a cycle.\n",
        "\n",
        "Here are some examples of paths, cycles, and trees.\n",
        "\n",
        "<img src=\"img/02/path_tree_cycle.png\" alt=\"Path, tree, loop example\" style=\"height: 120px;\"/>\n",
        "\n",
        "## Why represent as a graph?\n",
        "\n",
        "Representing something as a graph is a kind of abstraction. For example, a railroad map abstracts the actual locations of stations and shows only the connections between stations.\n",
        "\n",
        "While the abstraction lacks information, representing it as a graph allows us to solve problems using a variety of efficient algorithms on graphs.\n",
        "\n",
        "The problem of finding the path with the smallest sum of edge weights connecting two given vertices is called the **shortest path problem**. The shortest path problem is one of the most famous graph problems, and efficient algorithms are known to find the shortest path.\n",
        "\n",
        "The shortest path connecting vertices 1 and 4 in a weighted graph is shown in the figure below.\n",
        "\n",
        "<img src=\"img/02/shortest_path_example.png\" alt=\"Example of shortest path\" style=\"height: 150px;\"/>\n",
        "\n",
        "Various real-world problems can be solved by solving the shortest path problem. For example, suppose we have a graph representing a network of roads, with each edge of the graph weighted by the time it takes to pass through the road. Then we can find a travel route with the shortest travel time by finding a shortest path between two vertices on the graph.\n",
        "\n",
        "In addition to the shortest path problem, there are various other graph problems such as the network flow problem, the minimum cut problem, and the spanning tree problem, as well as algorithms for efficiently solving these problems. By abstracting and representing an object as a graph, it is possible to benefit from various mathematical theories and algorithms that deal with graphs.\n",
        "\n",
        "## Summary\n",
        "\n",
        "In this chapter, we have explained the basics of graph theory, which will be necessary for the rest of this chapter. Various real-world objects can be represented as graphs, and by representing them as graphs, we can take advantage of powerful algorithms for processing graphs.\n",
        "\n",
        "While graphs are powerful tools, there are problems that are difficult to solve even when represented as graphs. In [next chapter](03_graph_and_combinatorial_explosion.ipynb), we introduce such problems."
      ],
      "metadata": {
        "id": "JKwBgNXtcgzB"
      }
    }
  ]
}