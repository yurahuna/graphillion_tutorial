{
  "nbformat": 4,
  "nbformat_minor": 0,
  "metadata": {
    "colab": {
      "provenance": [],
      "authorship_tag": "ABX9TyMmUmOHE3GgXM9MbS9wteso",
      "include_colab_link": true
    },
    "kernelspec": {
      "name": "python3",
      "display_name": "Python 3"
    },
    "language_info": {
      "name": "python"
    }
  },
  "cells": [
    {
      "cell_type": "markdown",
      "metadata": {
        "id": "view-in-github",
        "colab_type": "text"
      },
      "source": [
        "<a href=\"https://colab.research.google.com/github/yurahuna/graphillion_tutorial/blob/master/ja/03_graph_and_combinatorial_explosion.ipynb\" target=\"_parent\"><img src=\"https://colab.research.google.com/assets/colab-badge.svg\" alt=\"Open In Colab\"/></a>"
      ]
    },
    {
      "cell_type": "markdown",
      "source": [
        "# Graphs and Combinatorial Explosions\n",
        "\n",
        "When solving problems involving graphs, one is often confronted with an exponentially growing number of combinations. This phenomenon is called **combinatorial explosion**.\n",
        "\n",
        "\n",
        "## Graphs and Computationally Difficult Problems\n",
        "\n",
        "In [previous chapter](02_graph_theory.ipynb), we explained that various problems can be solved by representing real-world objects as graphs. Since efficient algorithms exist for problems such as the shortest path problem and the minimum spanning tree problem, real-world problems can be efficiently solved by modeling them as graphs.\n",
        "\n",
        "On the other hand, not all graph problems can be solved efficiently. An example of such a problem is the **longest path problem**. The longest path problem\n",
        "is the problem of finding a path with the maximum total edge weight given two vertices in a graph.\n",
        "\n",
        "<img src=\"img/03/shortest_and_longest_path.png\" alt=\"Examples of shortest and longest paths\" style=\"height: 150px;\"/>\n",
        "\n",
        "The setting of the longest path problem is similar to that of the shortest path problem, but the difficulty of the problem is very different. The computation time required to find a shortest path is approximately linear in the number of vertices and edges in the graph. In other words, even if the number of vertices or edges in the graph doubles or triples, the computation time required to find the shortest path is kept to a factor of 2 or 3.\n",
        "\n",
        "On the other hand, no such efficient method has been found for the longest path problem. Even the most efficient algorithm currently known increases the computation time **exponentially** with the size of the graph. This means that the computation time to find the longest path of a graph with $n$ edges is $k^n$ times longer than the time to find the longest path of a graph with $2n$ edges. Here $k$ is an arbitrary positive integer.\n",
        "\n",
        "If $k=2$, it means that one more edge doubles the computation time, two more edges quadruple the computation time, three more edges eight times the computation time, and so on.\n",
        "\n",
        "This exponential increase in computational complexity is so great that, for example, the addition of 30 edges increases the computation time by a factor of 1 billion. If the original longest path problem was solved in a second, it would take over *30 years* to solve the problem with the additional edges.\n",
        "\n",
        "It is known that the longest path problem belongs to a class of problems called **NP-hard**, and the only algorithms that have been found to solve NP-hard problems are those that take exponentially long relative to the size of the input. (In the longest path problem, the size of the input is the number of graph vertices and edges.) In addition to the longest path problem, many other graph-related NP-hard problems are known, such as the traveling salesman problem, Steiner tree problem, and maximum cut problem.\n",
        "\n",
        "\n",
        "\n",
        "## Combinatorial explosion\n",
        "\n",
        "Why is the longest path problem so hard to solve? Rougly speaking, it is because the number of possible answers that must be investigated to find a solution is very large. For example, consider the number of possible paths from vertex 1 to vertex 9 in the graph below. Note that a path must not pass through the same vertex twice.\n",
        "\n",
        "<img src=\"img/03/grid_graph.png\" alt=\"grid graph\" style=\"height: 150px;\"/>\n",
        "\n",
        "This graph has the following 12 paths.\n",
        "\n",
        "<img src=\"img/03/grid_graph_paths.png\" alt=\"grid graph paths\" style=\"width: 400px;\"/>\n",
        "\n",
        "\n",
        "\n",
        "Next, let's examine how many paths there are from vertex 1 to vertex 16 for the following slightly larger graph.\n",
        "\n",
        "<img src=\"img/03/large_grid_graph.png\" alt=\"large graph\" style=\"height: 200px;\"/>\n",
        "\n",
        "\n",
        "\n",
        "There are 184 paths in this graph. As you can see, the number of paths increases rapidly as the graph size increases. In order to find the longest path, we need to take out the paths one by one and compare their lengths. Therefore, as the total number of paths increases exponentially, the computation time also increases exponentially.\n",
        "\n",
        "\n",
        "\n",
        "In the longest path example, the total number of paths increases exponentially as the problem size increases, making the problem difficult to solve. Since paths are composed of combinations of edges, this phenomenon can be viewed as an exponential increase in the total number of possible paths. This exponential increase in the total number of combinations as the input size increases is called a **combinatorial explosion**.\n",
        "\n",
        "\n",
        "Combinatorial explosion is responsible for the difficulty of graph problems. On the other hand, there are problems that are not affected by combinatorial explosion, such as shortest path problems. The same is true for shortest path problems, where the solution cannot be obtained without considering all possible paths. However, solving the shortest path problem does not require explicitly examining all possible combinations, and thus the solution can be obtained efficiently.\n",
        "\n",
        "\n",
        "\n",
        "\n",
        "## Summary of this chapter\n",
        "\n",
        "Combinatorial explosion is a difficult problem. If the problem you want to solve is combinatorially exploding, it is likely to be difficult to find an answer in a realistic amount of time.\n",
        "When faced with such a problem, approximate methods have been widely used, i.e., methods that do not guarantee the best answer, but allow the solution to be found in a realistic amount of time.\n",
        "\n",
        "Graphillion offers a completely different approach to such combinatorial graph problems. Whereas approximate methods perform computations faster by not looking at all the combinations, Graphillion achieves efficient computation by *compressing* and *representing* the combinations.\n",
        "\n",
        "Let's try out Graphillion's features in [next chapter](04_graphillion_first_step.ipynb)."
      ],
      "metadata": {
        "id": "hvR5Mwrvi0QP"
      }
    }
  ]
}