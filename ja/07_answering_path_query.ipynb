{
  "nbformat": 4,
  "nbformat_minor": 0,
  "metadata": {
    "kernelspec": {
      "name": "python3",
      "display_name": "Python 3"
    },
    "colab": {
      "provenance": [],
      "include_colab_link": true
    }
  },
  "cells": [
    {
      "cell_type": "markdown",
      "metadata": {
        "id": "view-in-github",
        "colab_type": "text"
      },
      "source": [
        "<a href=\"https://colab.research.google.com/github/yurahuna/graphillion_tutorial/blob/master/ja/07_answering_path_query.ipynb\" target=\"_parent\"><img src=\"https://colab.research.google.com/assets/colab-badge.svg\" alt=\"Open In Colab\"/></a>"
      ]
    },
    {
      "cell_type": "markdown",
      "metadata": {
        "id": "eMBFMjmVsP2e"
      },
      "source": [
        "# Optimization with Graphillion\n",
        "\n",
        "This chapter shows how to use Graphillion to solve **optimization problems** to find the optimal path that satisfies several complex constraints."
      ]
    },
    {
      "cell_type": "markdown",
      "metadata": {
        "id": "4SZ4r0UjsP2h"
      },
      "source": [
        "## Problem Setting\n",
        "\n",
        "Consider the graph shown in the figure below. Note that each edge of the graph has a number attached to it. This number represents the **weight** of the edge.\n",
        "\n",
        "![weighted graph](https://github.com/nsnmsak/graphillion_tutorial/blob/master/ja/img/07/graph.png?raw=1)\n",
        "\n",
        "Starting from vertex 1 on this graph, let us find the longest and shortest cycles containing vertices 2 and 6. The length of the cycle is the sum of the weights of the edges passed. Also, an edge is assumed to be traversed only once in the cycle."
      ]
    },
    {
      "cell_type": "markdown",
      "metadata": {
        "id": "yTV_Hc_IsP2j"
      },
      "source": [
        "## Initialization, creation of graph set\n",
        "\n",
        "First, import the `GraphSet` module as before and initialize the `GraphSet` using the `GraphSet.set_universe()` method."
      ]
    },
    {
      "cell_type": "code",
      "metadata": {
        "id": "FbkvwhoLsRTJ"
      },
      "source": [
        "!pip install graphillion\n",
        "!git clone https://github.com/nsnmsak/graphillion_tutorial\n",
        "!cp graphillion_tutorial/ja/tutorial_util.py ."
      ],
      "execution_count": null,
      "outputs": []
    },
    {
      "cell_type": "code",
      "metadata": {
        "id": "woUZMjthsP2k"
      },
      "source": [
        "from graphillion import GraphSet, tutorial\n",
        "from tutorial_util import draw_subgraph, draw_universe\n",
        "\n",
        "GraphSet.set_universe(tutorial.grid(2, 2))\n",
        "draw_universe()"
      ],
      "execution_count": null,
      "outputs": []
    },
    {
      "cell_type": "markdown",
      "metadata": {
        "id": "Cs-_4x6xsP2r"
      },
      "source": [
        "Next, create a `GraphSet` object. In this case, we want to compute cycles, so we first create a `GraphSet` that represents the set of all cycles."
      ]
    },
    {
      "cell_type": "code",
      "metadata": {
        "id": "Ya9_-tf9sP2s"
      },
      "source": [
        "cycles = GraphSet.cycles()"
      ],
      "execution_count": null,
      "outputs": []
    },
    {
      "cell_type": "markdown",
      "metadata": {
        "id": "B7j8UQNrsP2v"
      },
      "source": [
        "The resulting `cycles` is a `GraphSet` object containing all the cycles. Since we need a cycle that includes vertices 1, 2, and 6, we use the `gs.including()` method to further refine the cycle."
      ]
    },
    {
      "cell_type": "code",
      "metadata": {
        "id": "KmoLnG5qsP2w"
      },
      "source": [
        "cycles = cycles.including(1).including(2).including(6)\n",
        "len(cycles)"
      ],
      "execution_count": null,
      "outputs": []
    },
    {
      "cell_type": "markdown",
      "metadata": {
        "id": "7gi036bLsP2z"
      },
      "source": [
        "Next, let us find the cycles with the largest and smallest sum of edge weights, respectively. Both can be easily selected by using the iterator."
      ]
    },
    {
      "cell_type": "code",
      "metadata": {
        "id": "AopmBM5BsP20"
      },
      "source": [
        "edge_weights = { # weights of edges\n",
        "    (1, 2): 4,\n",
        "    (1, 4): 1,\n",
        "    (2, 3): 1,\n",
        "    (2, 5): 3,\n",
        "    (3, 6): 5,\n",
        "    (4, 5): 1,\n",
        "    (4, 7): 3,\n",
        "    (5, 6): 1,\n",
        "    (5, 8): 2,\n",
        "    (6, 9): 2,\n",
        "    (7, 8): 3,\n",
        "    (8, 9): 3\n",
        "}\n",
        "\n",
        "min_cycle = next(cycles.min_iter(weights=edge_weights))\n",
        "max_cycle = next(cycles.max_iter(weights=edge_weights))\n",
        "draw_subgraph(min_cycle)\n",
        "draw_subgraph(max_cycle)"
      ],
      "execution_count": null,
      "outputs": []
    },
    {
      "cell_type": "markdown",
      "metadata": {
        "id": "LJmY3sHGsP22"
      },
      "source": [
        "More complex calculations can be performed by adding additional conditions: let's find the longest cycle that passes through 1, 2, and 6, but only through either 3 or 7. This can also be easily achieved by combining operations in a `GraphSet`."
      ]
    },
    {
      "cell_type": "code",
      "metadata": {
        "id": "WSK0lRajsP22"
      },
      "source": [
        "cycles = GraphSet.cycles()\n",
        "cycles = cycles.including(1).including(2).including(6)\n",
        "include_37 = cycles.including(3).including(7)\n",
        "cycles = cycles.difference(include_37)\n",
        "\n",
        "max_cycle = next(cycles.max_iter(weights=edge_weights))\n",
        "draw_subgraph(max_cycle)"
      ],
      "execution_count": null,
      "outputs": []
    },
    {
      "cell_type": "markdown",
      "metadata": {
        "id": "ggCeV22wsP25"
      },
      "source": [
        "One of the features of optimization methods using Graphillion is that it is easy to change the edge weights and re-solve the problem. Existing solvers for optimization problems require re-solving the optimization problem when the edge weights are changed. On the other hand, Graphillion can solve optimization problems by reusing the set of graphs `gs`, so it can solve the problem very quickly if only the weights are changed. This feature makes Graphillion effective in situations where optimization problems must be solved repeatedly with changing weights.\n",
        "\n",
        "## Summary of this chapter\n",
        "\n",
        "In this chapter, we introduced examples of optimization problems solved using Graphillion. There are many useful tools other than Graphillion that are limited to solving optimization problems. On the other hand, Graphillion provides the flexibility to not only optimize, but also to add conditions as needed, extract multiple solutions, and so on. In [next chapter](08_network_reliability.ipynb), we will introduce an example of solving a more complex problem using Graphillion."
      ]
    }
  ]
}